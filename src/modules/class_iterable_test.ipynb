{
 "cells": [
  {
   "cell_type": "code",
   "execution_count": 16,
   "metadata": {},
   "outputs": [],
   "source": [
    "# Notebook 이라는 사물을 클래스로 정의합니다.\n",
    "class Notebook:\n",
    "    def __init__(self,\n",
    "                 brand :str,\n",
    "                 cpu :str,\n",
    "                 ram :int,\n",
    "                 year:int,\n",
    "                 weight:float,\n",
    "                 os :str,\n",
    "                 color :str,\n",
    "                 price :int):  # 생성자(=constructor)\n",
    "        self.brand = brand\n",
    "        self.cpu = cpu\n",
    "        self.ram = ram\n",
    "        self.year = year\n",
    "        self.weight = weight\n",
    "        self.os = os\n",
    "        self.color = color\n",
    "        self.price = price\n",
    "\n",
    "    def __iter__(self):\n",
    "        # yield self.consumer_record\n",
    "        pass\n",
    "\n",
    "    def __str__(self):\n",
    "        return \"this is Notebook object\"\n",
    "\n",
    "    def is_Unix(self):\n",
    "        return"
   ]
  },
  {
   "cell_type": "code",
   "execution_count": 17,
   "metadata": {},
   "outputs": [
    {
     "name": "stdout",
     "output_type": "stream",
     "text": [
      "this is Notebook object\n"
     ]
    }
   ],
   "source": [
    "notebook = Notebook(brand='Apple',\n",
    "                    cpu='Intel',\n",
    "                    ram=16,\n",
    "                    year=2020,\n",
    "                    weight=2.1,\n",
    "                    os='macOS',\n",
    "                    color='silver',\n",
    "                    price=2800000)  ## call constructor\n",
    "\n",
    "# notebook = ['Apple', 'Intel', 16, ...]\n",
    "# notebook = {'brand' : 'Apple',\n",
    "#             'cpu' : 'Intel'}\n",
    "\n",
    "# def is_Unix(notebook):\n",
    "#     return\n",
    "\n",
    "# is_Unix(notebook)\n",
    "# notebook.is_Unix()\n",
    "# for i in notebook:\n",
    "#     print(i)\n",
    "\n",
    "print(notebook)"
   ]
  },
  {
   "cell_type": "code",
   "execution_count": null,
   "metadata": {},
   "outputs": [],
   "source": []
  }
 ],
 "metadata": {
  "kernelspec": {
   "display_name": "py3_11_9",
   "language": "python",
   "name": "python3"
  },
  "language_info": {
   "codemirror_mode": {
    "name": "ipython",
    "version": 3
   },
   "file_extension": ".py",
   "mimetype": "text/x-python",
   "name": "python",
   "nbconvert_exporter": "python",
   "pygments_lexer": "ipython3",
   "version": "3.11.9"
  }
 },
 "nbformat": 4,
 "nbformat_minor": 2
}
