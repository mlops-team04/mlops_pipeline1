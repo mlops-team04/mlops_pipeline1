{
 "cells": [
  {
   "cell_type": "code",
   "execution_count": 1,
   "id": "6f2b1b9f-520a-415c-814e-0d18cacf1281",
   "metadata": {},
   "outputs": [
    {
     "data": {
      "text/plain": [
       "'/home/ubuntu/mlops_pipeline1/src/modules'"
      ]
     },
     "execution_count": 1,
     "metadata": {},
     "output_type": "execute_result"
    }
   ],
   "source": [
    "pwd"
   ]
  },
  {
   "cell_type": "code",
   "execution_count": 2,
   "id": "824824c9-0738-4e2a-920f-193fd508947e",
   "metadata": {},
   "outputs": [],
   "source": [
    "# import 하는 것은 jupyter 있는 인스턴스에 설치되어 있어야 한다."
   ]
  },
  {
   "cell_type": "code",
   "execution_count": 3,
   "id": "4774e851-b8fa-4fc9-845b-ce514031c07e",
   "metadata": {},
   "outputs": [],
   "source": [
    "import psycopg2"
   ]
  },
  {
   "cell_type": "code",
   "execution_count": 4,
   "id": "0c2ad9a4-f70d-430f-b884-9353a75ba028",
   "metadata": {},
   "outputs": [],
   "source": [
    "import pandas as pd"
   ]
  },
  {
   "cell_type": "code",
   "execution_count": 5,
   "id": "aeba7bf7-ddd8-447c-82e4-df76cf1b2ec0",
   "metadata": {},
   "outputs": [],
   "source": [
    "host = '127.0.0.1'\n",
    "port = 5432\n",
    "user = 'postgres'\n",
    "pw = 'postgres'\n",
    "db = 'api_call'\n",
    "table = 'api_call_table'\n",
    "sqlquery = 'SELECT * FROM {}'.format(table)\n",
    "save_path = '/home/ubuntu/app/jupyter/'\n",
    "file_name = table + '.parquet'"
   ]
  },
  {
   "cell_type": "code",
   "execution_count": 6,
   "id": "293a75d6-8980-454c-b945-ec73d28dc31a",
   "metadata": {},
   "outputs": [],
   "source": [
    "# cur.execute(), fetchall()은 한번 하고 데이터 불러오면 끝\n",
    "# 다시 데이터 보려면 다시 명령해야한다."
   ]
  },
  {
   "cell_type": "code",
   "execution_count": 7,
   "id": "a1b08c22-15b3-4a3e-8c91-46c8ce7323d3",
   "metadata": {},
   "outputs": [],
   "source": [
    "conn = psycopg2.connect(dbname=db, user=user, password=pw, host=host, port=port)\n",
    "cur = conn.cursor()\n",
    "cur.execute(sqlquery)"
   ]
  },
  {
   "cell_type": "code",
   "execution_count": 8,
   "id": "54bbd1b5-097c-4cf2-bb97-1947344a5bbd",
   "metadata": {},
   "outputs": [
    {
     "name": "stdout",
     "output_type": "stream",
     "text": [
      "id\n",
      "use_ymd\n",
      "sbwy_rout_ln_nm\n",
      "sbwy_stns_nm\n",
      "gton_tnope\n",
      "gtoff_tnope\n",
      "reg_ymd\n"
     ]
    }
   ],
   "source": [
    "for a in cur.description:\n",
    "    print(a[0])"
   ]
  },
  {
   "cell_type": "code",
   "execution_count": 9,
   "id": "b3d0288f-7b20-4fb0-a68e-fb381fc68416",
   "metadata": {},
   "outputs": [],
   "source": [
    "colnames = [ element[0] for element in cur.description ]"
   ]
  },
  {
   "cell_type": "code",
   "execution_count": 10,
   "id": "f903d23c-e3e6-4bef-b65e-d32c9877f183",
   "metadata": {},
   "outputs": [
    {
     "name": "stdout",
     "output_type": "stream",
     "text": [
      "[(1, 20240830, '1호선', '서울역', 63216, 60119, 20240902), (2, 20240830, '1호선', '시청', 31658, 32336, 20240902), (3, 20240830, '1호선', '종각', 43781, 43496, 20240902), (4, 20240830, '1호선', '종로3가', 27463, 25024, 20240902), (5, 20240830, '1호선', '종로5가', 26598, 25874, 20240902)]\n"
     ]
    }
   ],
   "source": [
    "data = cur.fetchall()\n",
    "print(data)"
   ]
  },
  {
   "cell_type": "code",
   "execution_count": 11,
   "id": "6e8f0812-7656-4431-941c-08e797fdae1c",
   "metadata": {},
   "outputs": [
    {
     "data": {
      "text/html": [
       "<div>\n",
       "<style scoped>\n",
       "    .dataframe tbody tr th:only-of-type {\n",
       "        vertical-align: middle;\n",
       "    }\n",
       "\n",
       "    .dataframe tbody tr th {\n",
       "        vertical-align: top;\n",
       "    }\n",
       "\n",
       "    .dataframe thead th {\n",
       "        text-align: right;\n",
       "    }\n",
       "</style>\n",
       "<table border=\"1\" class=\"dataframe\">\n",
       "  <thead>\n",
       "    <tr style=\"text-align: right;\">\n",
       "      <th></th>\n",
       "      <th>id</th>\n",
       "      <th>use_ymd</th>\n",
       "      <th>sbwy_rout_ln_nm</th>\n",
       "      <th>sbwy_stns_nm</th>\n",
       "      <th>gton_tnope</th>\n",
       "      <th>gtoff_tnope</th>\n",
       "      <th>reg_ymd</th>\n",
       "    </tr>\n",
       "  </thead>\n",
       "  <tbody>\n",
       "    <tr>\n",
       "      <th>0</th>\n",
       "      <td>1</td>\n",
       "      <td>20240830</td>\n",
       "      <td>1호선</td>\n",
       "      <td>서울역</td>\n",
       "      <td>63216</td>\n",
       "      <td>60119</td>\n",
       "      <td>20240902</td>\n",
       "    </tr>\n",
       "    <tr>\n",
       "      <th>1</th>\n",
       "      <td>2</td>\n",
       "      <td>20240830</td>\n",
       "      <td>1호선</td>\n",
       "      <td>시청</td>\n",
       "      <td>31658</td>\n",
       "      <td>32336</td>\n",
       "      <td>20240902</td>\n",
       "    </tr>\n",
       "    <tr>\n",
       "      <th>2</th>\n",
       "      <td>3</td>\n",
       "      <td>20240830</td>\n",
       "      <td>1호선</td>\n",
       "      <td>종각</td>\n",
       "      <td>43781</td>\n",
       "      <td>43496</td>\n",
       "      <td>20240902</td>\n",
       "    </tr>\n",
       "    <tr>\n",
       "      <th>3</th>\n",
       "      <td>4</td>\n",
       "      <td>20240830</td>\n",
       "      <td>1호선</td>\n",
       "      <td>종로3가</td>\n",
       "      <td>27463</td>\n",
       "      <td>25024</td>\n",
       "      <td>20240902</td>\n",
       "    </tr>\n",
       "    <tr>\n",
       "      <th>4</th>\n",
       "      <td>5</td>\n",
       "      <td>20240830</td>\n",
       "      <td>1호선</td>\n",
       "      <td>종로5가</td>\n",
       "      <td>26598</td>\n",
       "      <td>25874</td>\n",
       "      <td>20240902</td>\n",
       "    </tr>\n",
       "  </tbody>\n",
       "</table>\n",
       "</div>"
      ],
      "text/plain": [
       "   id   use_ymd sbwy_rout_ln_nm sbwy_stns_nm  gton_tnope  gtoff_tnope  \\\n",
       "0   1  20240830             1호선          서울역       63216        60119   \n",
       "1   2  20240830             1호선           시청       31658        32336   \n",
       "2   3  20240830             1호선           종각       43781        43496   \n",
       "3   4  20240830             1호선         종로3가       27463        25024   \n",
       "4   5  20240830             1호선         종로5가       26598        25874   \n",
       "\n",
       "    reg_ymd  \n",
       "0  20240902  \n",
       "1  20240902  \n",
       "2  20240902  \n",
       "3  20240902  \n",
       "4  20240902  "
      ]
     },
     "execution_count": 11,
     "metadata": {},
     "output_type": "execute_result"
    }
   ],
   "source": [
    "df = pd.DataFrame(data, columns=colnames)\n",
    "df"
   ]
  },
  {
   "cell_type": "code",
   "execution_count": 12,
   "id": "e024b65b-2f06-4664-a0ff-a4e7894c298c",
   "metadata": {},
   "outputs": [],
   "source": [
    "cur.close()\n",
    "conn.close()"
   ]
  },
  {
   "cell_type": "code",
   "execution_count": 13,
   "id": "8cd6fb22-457e-426e-a3fe-292dd9087cec",
   "metadata": {},
   "outputs": [],
   "source": [
    "# pd.DataFrame()은 데이터가 df에 계속 있다."
   ]
  },
  {
   "cell_type": "code",
   "execution_count": 15,
   "id": "68b1383d-9c94-4151-804f-7d78e2c6b026",
   "metadata": {},
   "outputs": [],
   "source": [
    "df.to_parquet(path=save_path+file_name)"
   ]
  },
  {
   "cell_type": "code",
   "execution_count": null,
   "id": "0b510824-7bba-40f9-9576-af37ccd757e7",
   "metadata": {},
   "outputs": [],
   "source": []
  }
 ],
 "metadata": {
  "kernelspec": {
   "display_name": "Python 3 (ipykernel)",
   "language": "python",
   "name": "python3"
  },
  "language_info": {
   "codemirror_mode": {
    "name": "ipython",
    "version": 3
   },
   "file_extension": ".py",
   "mimetype": "text/x-python",
   "name": "python",
   "nbconvert_exporter": "python",
   "pygments_lexer": "ipython3",
   "version": "3.11.9"
  }
 },
 "nbformat": 4,
 "nbformat_minor": 5
}
